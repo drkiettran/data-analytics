{
 "cells": [
  {
   "cell_type": "markdown",
   "metadata": {},
   "source": [
    "# Basic Statistics notebook\n",
    "\n",
    "Visit this website for more information: `https://scikit-learn.org`\n",
    "Decision tree examples can be found here: `https://github.com/PacktPublishing/Hands-On-Data-Science-and-Python-Machine-Learning`\n",
    "\n",
    "Install these packages:\n",
    "- numpy\n",
    "- pandas\n",
    "- pydoop\n",
    "- sklearn\n",
    "- scipy"
   ]
  },
  {
   "cell_type": "markdown",
   "metadata": {},
   "source": [
    "## Basic Statistics"
   ]
  },
  {
   "cell_type": "code",
   "execution_count": null,
   "metadata": {},
   "outputs": [],
   "source": [
    "%matplotlib inline\n",
    "import matplotlib.pyplot as plt"
   ]
  },
  {
   "cell_type": "code",
   "execution_count": null,
   "metadata": {},
   "outputs": [],
   "source": [
    "import numpy as np"
   ]
  },
  {
   "cell_type": "code",
   "execution_count": null,
   "metadata": {},
   "outputs": [],
   "source": [
    "import pandas as pd"
   ]
  },
  {
   "cell_type": "code",
   "execution_count": null,
   "metadata": {},
   "outputs": [],
   "source": [
    "import matplotlib as mpl\n",
    "mpl.style.use('ggplot')"
   ]
  },
  {
   "cell_type": "code",
   "execution_count": null,
   "metadata": {},
   "outputs": [],
   "source": [
    "import seaborn as sns"
   ]
  },
  {
   "cell_type": "markdown",
   "metadata": {},
   "source": [
    "### Central tendecy\n",
    "- Mode\n",
    "- Mean\n",
    "- Median"
   ]
  },
  {
   "cell_type": "code",
   "execution_count": null,
   "metadata": {},
   "outputs": [],
   "source": [
    "# mode - occurs the most. try 'a', 'a[0]', 'a[2]', 'a[3]'\n",
    "\"\"\"\n",
    "Sort the values, look for the one that has the most occurrences\n",
    "\"\"\"\n",
    "a = np.array([[6, 8, 3, 0],\\\n",
    "              [3, 2, 1, 7],\\\n",
    "              [8, 1, 8, 4],\\\n",
    "              [5, 3, 0, 5],\\\n",
    "              [4, 7, 3, 9]])\n",
    "b = np.array([[1, 3, 6, 0],\\\n",
    "              [4, 9, 3, 7],\\\n",
    "              [8, 1, 3, 2],\\\n",
    "              [4, 9, 1, 3],\\\n",
    "              [6, 1, 3, 8]])\n",
    "\n",
    "print(stats.mode(a, axis=None))\n",
    "print(stats.mode(b, axis=None))\n",
    "aa = [0, 3, 8, 2, 7, 1, 3, 2, 2, 6, 2, 5, 2, 2]\n",
    "print(stats.mode(aa))"
   ]
  },
  {
   "cell_type": "code",
   "execution_count": null,
   "metadata": {},
   "outputs": [],
   "source": [
    "mode = stats.mode(a, axis=None)\n",
    "print(mode.mode[0])\n",
    "print(mode.count[0])"
   ]
  },
  {
   "cell_type": "code",
   "execution_count": null,
   "metadata": {},
   "outputs": [],
   "source": [
    "# mean or average - use np.average\n",
    "print(np.average(a))\n",
    "print(np.average(a[0]))\n",
    "print(np.average(a[2]))\n",
    "print(np.average(a[3]))\n",
    "print(np.average(aa))"
   ]
  },
  {
   "cell_type": "code",
   "execution_count": null,
   "metadata": {},
   "outputs": [],
   "source": [
    "# Median\n",
    "np.median(a)\n",
    "np.median(a[1])\n",
    "np.median(a[2])"
   ]
  },
  {
   "cell_type": "markdown",
   "metadata": {},
   "source": [
    "## Dispersion\n",
    "- Range\n",
    "- Variance\n",
    "- Standard deviation"
   ]
  },
  {
   "cell_type": "code",
   "execution_count": null,
   "metadata": {},
   "outputs": [],
   "source": [
    "# Standard Deviation \n",
    "np.std(a)\n",
    "np.std(a[0])"
   ]
  },
  {
   "cell_type": "code",
   "execution_count": null,
   "metadata": {},
   "outputs": [],
   "source": [
    "# Variance\n",
    "np.var(a)\n",
    "np.var(a[0])"
   ]
  },
  {
   "cell_type": "markdown",
   "metadata": {},
   "source": [
    "## Association\n",
    "- Covariance\n",
    "- Correlation\n",
    "- Correlation Coefficient"
   ]
  },
  {
   "cell_type": "code",
   "execution_count": null,
   "metadata": {},
   "outputs": [],
   "source": [
    "# Covariance\n",
    "\n",
    "np.cov(a)\n",
    "np.cov(a[0])\n",
    "np.std(a[0])"
   ]
  },
  {
   "cell_type": "code",
   "execution_count": null,
   "metadata": {},
   "outputs": [],
   "source": [
    "# Correlation\n",
    "np.correlate(a[0],a[1])\n",
    "np.correlate(a[0],a[2])\n",
    "np.correlate(a[0],a[3])"
   ]
  },
  {
   "cell_type": "code",
   "execution_count": null,
   "metadata": {},
   "outputs": [],
   "source": [
    "# Correlation Coefficient\n",
    "np.corrcoef(a[0],a[1])\n",
    "np.corrcoef(a,b)"
   ]
  }
 ],
 "metadata": {
  "kernelspec": {
   "display_name": "Python 3",
   "language": "python",
   "name": "python3"
  },
  "language_info": {
   "codemirror_mode": {
    "name": "ipython",
    "version": 3
   },
   "file_extension": ".py",
   "mimetype": "text/x-python",
   "name": "python",
   "nbconvert_exporter": "python",
   "pygments_lexer": "ipython3",
   "version": "3.6.9"
  }
 },
 "nbformat": 4,
 "nbformat_minor": 2
}
