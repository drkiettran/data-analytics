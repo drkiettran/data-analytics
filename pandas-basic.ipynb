{
 "cells": [
  {
   "cell_type": "markdown",
   "metadata": {},
   "source": [
    "# Pandas\n",
    "\n",
    "Exercises below were extracted from: Numerical Python by Robert Johansson (2015)\n",
    "\n",
    "- Chapter 12: Data Processing and Analysis"
   ]
  },
  {
   "cell_type": "code",
   "execution_count": null,
   "metadata": {},
   "outputs": [],
   "source": [
    "%matplotlib inline\n",
    "import matplotlib.pyplot as plt"
   ]
  },
  {
   "cell_type": "code",
   "execution_count": null,
   "metadata": {},
   "outputs": [],
   "source": [
    "import numpy as np"
   ]
  },
  {
   "cell_type": "code",
   "execution_count": null,
   "metadata": {},
   "outputs": [],
   "source": [
    "import pandas as pd"
   ]
  },
  {
   "cell_type": "code",
   "execution_count": null,
   "metadata": {},
   "outputs": [],
   "source": [
    "import matplotlib as mpl\n",
    "mpl.style.use('ggplot')"
   ]
  },
  {
   "cell_type": "code",
   "execution_count": null,
   "metadata": {},
   "outputs": [],
   "source": [
    "import seaborn as sns"
   ]
  },
  {
   "cell_type": "markdown",
   "metadata": {},
   "source": [
    "### Series"
   ]
  },
  {
   "cell_type": "code",
   "execution_count": null,
   "metadata": {},
   "outputs": [],
   "source": [
    "s = pd.Series([909976, 8615246, 2872086, 2273305])\n",
    "s"
   ]
  },
  {
   "cell_type": "code",
   "execution_count": null,
   "metadata": {},
   "outputs": [],
   "source": [
    "list(s.index)"
   ]
  },
  {
   "cell_type": "code",
   "execution_count": null,
   "metadata": {},
   "outputs": [],
   "source": [
    "s.values"
   ]
  },
  {
   "cell_type": "code",
   "execution_count": null,
   "metadata": {},
   "outputs": [],
   "source": [
    "s.index = ['Stockholm', 'London', 'Rome', 'Paris']\n",
    "s.name = 'Population'\n",
    "s"
   ]
  },
  {
   "cell_type": "code",
   "execution_count": null,
   "metadata": {},
   "outputs": [],
   "source": [
    "s = pd.Series([909976, 8615246, 2872086, 2273305], name='Population', \n",
    "              index=['Stockholm', 'London', 'Rome', 'Paris'])\n",
    "s"
   ]
  },
  {
   "cell_type": "code",
   "execution_count": null,
   "metadata": {},
   "outputs": [],
   "source": [
    "s['London']"
   ]
  },
  {
   "cell_type": "code",
   "execution_count": null,
   "metadata": {},
   "outputs": [],
   "source": [
    "s[['Rome', 'Paris']]"
   ]
  },
  {
   "cell_type": "code",
   "execution_count": null,
   "metadata": {},
   "outputs": [],
   "source": [
    "s.mean(), s.median(), s.std()"
   ]
  },
  {
   "cell_type": "code",
   "execution_count": null,
   "metadata": {},
   "outputs": [],
   "source": [
    "s.min(), s.max()"
   ]
  },
  {
   "cell_type": "markdown",
   "metadata": {},
   "source": [
    "### Wikipedia\n",
    "\n",
    "quantiles are cut points dividing the range of a \n",
    "probability distribution into continuous intervals with \n",
    "equal probabilities, or dividing the observations in \n",
    "a sample in the same way.\n",
    "\n",
    "- The only 2-quantile is called the median\n",
    "- The 3-quantiles are called tertiles or terciles → T\n",
    "- The 4-quantiles are called quartiles\n",
    "- The 100-quantiles are called percentile"
   ]
  },
  {
   "cell_type": "code",
   "execution_count": null,
   "metadata": {},
   "outputs": [],
   "source": [
    "s.quantile(q=0.25), s.quantile(q=0.5), s.quantile(q=0.75)"
   ]
  },
  {
   "cell_type": "code",
   "execution_count": null,
   "metadata": {},
   "outputs": [],
   "source": [
    "s.describe()"
   ]
  },
  {
   "cell_type": "code",
   "execution_count": null,
   "metadata": {},
   "outputs": [],
   "source": [
    "fig, axes = plt.subplots(1, 4, figsize=(12, 3))\n",
    "s.plot(ax=axes[0], kind='line', title='line')\n",
    "s.plot(ax=axes[1], kind='bar', title='bar')\n",
    "s.plot(ax=axes[2], kind='box', title='box')\n",
    "s.plot(ax=axes[3], kind='pie', title='pie')"
   ]
  },
  {
   "cell_type": "markdown",
   "metadata": {},
   "source": [
    "### DataFrame"
   ]
  },
  {
   "cell_type": "code",
   "execution_count": null,
   "metadata": {},
   "outputs": [],
   "source": [
    "df = pd.DataFrame([[909976, 'Sweden'], [8615246, 'United Kingdom'], [2872086, 'Italy'], [2273305, 'France']])\n",
    "df"
   ]
  },
  {
   "cell_type": "code",
   "execution_count": null,
   "metadata": {},
   "outputs": [],
   "source": [
    "df.index = ['Stockholm', 'London', 'Rome', 'Paris']\n",
    "df.columns = ['Population', 'State']\n",
    "df"
   ]
  },
  {
   "cell_type": "code",
   "execution_count": null,
   "metadata": {},
   "outputs": [],
   "source": [
    "df = pd.DataFrame([[909976, 'Sweden'], [8615246, 'United Kingdom'], [2872086, 'Italy'], [2273305, 'France']],\n",
    "                 index=['Stockholm', 'London', 'Rome', 'Paris'],\n",
    "                 columns = ['Population', 'State'])"
   ]
  },
  {
   "cell_type": "code",
   "execution_count": null,
   "metadata": {},
   "outputs": [],
   "source": [
    "df.Population"
   ]
  },
  {
   "cell_type": "code",
   "execution_count": null,
   "metadata": {},
   "outputs": [],
   "source": [
    "df.State"
   ]
  },
  {
   "cell_type": "code",
   "execution_count": null,
   "metadata": {},
   "outputs": [],
   "source": [
    "df.loc['Stockholm']"
   ]
  },
  {
   "cell_type": "code",
   "execution_count": null,
   "metadata": {},
   "outputs": [],
   "source": [
    "df.loc[['Stockholm', 'Rome']]"
   ]
  },
  {
   "cell_type": "code",
   "execution_count": null,
   "metadata": {},
   "outputs": [],
   "source": [
    "df.loc[['Stockholm', 'Rome'], 'Population']"
   ]
  },
  {
   "cell_type": "code",
   "execution_count": null,
   "metadata": {},
   "outputs": [],
   "source": [
    "df.mean()"
   ]
  },
  {
   "cell_type": "code",
   "execution_count": null,
   "metadata": {},
   "outputs": [],
   "source": [
    "df.info()"
   ]
  },
  {
   "cell_type": "code",
   "execution_count": null,
   "metadata": {},
   "outputs": [],
   "source": [
    "df.dtypes"
   ]
  },
  {
   "cell_type": "code",
   "execution_count": null,
   "metadata": {},
   "outputs": [],
   "source": [
    "!head -n 5 european_cities.csv"
   ]
  },
  {
   "cell_type": "code",
   "execution_count": null,
   "metadata": {},
   "outputs": [],
   "source": [
    "df_pop = pd.read_csv('european_cities.csv', delimiter=',', encoding='utf-8', header=0)"
   ]
  },
  {
   "cell_type": "code",
   "execution_count": null,
   "metadata": {},
   "outputs": [],
   "source": [
    "df_pop.info()"
   ]
  },
  {
   "cell_type": "code",
   "execution_count": null,
   "metadata": {},
   "outputs": [],
   "source": [
    "df_pop.head()"
   ]
  },
  {
   "cell_type": "code",
   "execution_count": null,
   "metadata": {},
   "outputs": [],
   "source": [
    "df_pop['NumericPopulation'] = df_pop.Population.apply(lambda x: int(x.replace(',', '')))\n",
    "df_pop['State'].values[:3]"
   ]
  },
  {
   "cell_type": "code",
   "execution_count": null,
   "metadata": {},
   "outputs": [],
   "source": [
    "df_pop['State'] = df_pop['State'].apply(lambda x:x.strip())\n",
    "df_pop.head()"
   ]
  },
  {
   "cell_type": "code",
   "execution_count": null,
   "metadata": {},
   "outputs": [],
   "source": [
    "df_pop.dtypes"
   ]
  },
  {
   "cell_type": "code",
   "execution_count": null,
   "metadata": {},
   "outputs": [],
   "source": [
    "df_pop2 = df_pop.set_index('City')\n",
    "df_pop2 = df_pop2.sort_index()\n",
    "df_pop2.head()"
   ]
  },
  {
   "cell_type": "code",
   "execution_count": null,
   "metadata": {},
   "outputs": [],
   "source": [
    "df_pop3 = df_pop.set_index(['State', 'City']).sort_index(level=0)\n",
    "df_pop3.head(7)"
   ]
  },
  {
   "cell_type": "code",
   "execution_count": null,
   "metadata": {},
   "outputs": [],
   "source": [
    "df_pop3.loc['Sweden']"
   ]
  },
  {
   "cell_type": "code",
   "execution_count": null,
   "metadata": {},
   "outputs": [],
   "source": [
    "df_pop3.loc['Sweden', 'Gothenburg']"
   ]
  },
  {
   "cell_type": "code",
   "execution_count": null,
   "metadata": {},
   "outputs": [],
   "source": [
    "df_pop.set_index('City').sort_values(['State', 'NumericPopulation'],\n",
    "                                    ascending=[False, True]).head()"
   ]
  },
  {
   "cell_type": "code",
   "execution_count": null,
   "metadata": {},
   "outputs": [],
   "source": [
    "city_counts = df_pop.State.value_counts()\n",
    "city_counts.head()"
   ]
  },
  {
   "cell_type": "code",
   "execution_count": null,
   "metadata": {},
   "outputs": [],
   "source": [
    "df_pop3 = df_pop[['State', 'City', 'NumericPopulation']].set_index(['State', 'City'])\n",
    "df_pop4 = df_pop3.sum(level='State').sort_values('NumericPopulation', ascending=False)\n",
    "df_pop4.head()"
   ]
  },
  {
   "cell_type": "code",
   "execution_count": null,
   "metadata": {},
   "outputs": [],
   "source": [
    "df_pop5 = (df_pop.drop('Rank', axis=1)\n",
    "           .groupby('State').sum()\n",
    "           .sort_values('NumericPopulation', ascending=False))\n",
    "           "
   ]
  },
  {
   "cell_type": "code",
   "execution_count": null,
   "metadata": {},
   "outputs": [],
   "source": [
    "fig, (ax1, ax2) = plt.subplots(1, 2, figsize=(12,4))\n",
    "city_counts.plot(kind='barh', ax=ax1)\n",
    "ax1.set_xlabel('# cities in top 105')\n",
    "df_pop5.NumericPopulation.plot(kind='barh', ax=ax2)\n",
    "ax2.set_xlabel('Total pop. in top 105 cities')"
   ]
  },
  {
   "cell_type": "markdown",
   "metadata": {},
   "source": [
    "### Time Series"
   ]
  },
  {
   "cell_type": "code",
   "execution_count": null,
   "metadata": {},
   "outputs": [],
   "source": [
    "pd.date_range('2015-1-1', periods=31)"
   ]
  },
  {
   "cell_type": "code",
   "execution_count": null,
   "metadata": {},
   "outputs": [],
   "source": [
    "pd.date_range('2015-1-1 00:00', '2015-1-1 12:00', freq='H')"
   ]
  },
  {
   "cell_type": "code",
   "execution_count": null,
   "metadata": {},
   "outputs": [],
   "source": [
    "ts1 = pd.Series(np.arange(31), index=pd.date_range('2015-1-1', periods=31))\n",
    "ts1.head()"
   ]
  },
  {
   "cell_type": "code",
   "execution_count": null,
   "metadata": {},
   "outputs": [],
   "source": [
    "ts1['2015-1-3']"
   ]
  },
  {
   "cell_type": "code",
   "execution_count": null,
   "metadata": {},
   "outputs": [],
   "source": [
    "ts1.index[2]"
   ]
  },
  {
   "cell_type": "code",
   "execution_count": null,
   "metadata": {},
   "outputs": [],
   "source": [
    "ts1.index[2].year, ts1.index[2].month, ts1.index[2].day"
   ]
  },
  {
   "cell_type": "code",
   "execution_count": null,
   "metadata": {},
   "outputs": [],
   "source": [
    "ts1.index[2].nanosecond"
   ]
  },
  {
   "cell_type": "code",
   "execution_count": null,
   "metadata": {},
   "outputs": [],
   "source": [
    "ts1.index[2].to_pydatetime()"
   ]
  },
  {
   "cell_type": "code",
   "execution_count": null,
   "metadata": {},
   "outputs": [],
   "source": [
    "ts2 = pd.Series(np.random.rand(2),\n",
    "               index=[datetime.datetime(2015, 1, 1), \n",
    "                     datetime.datetime(2015, 2, 1)])\n",
    "ts2"
   ]
  },
  {
   "cell_type": "code",
   "execution_count": null,
   "metadata": {},
   "outputs": [],
   "source": [
    "periods = pd.PeriodIndex([pd.Period('2015-01'),\n",
    "                          pd.Period('2015-02'),\n",
    "                          pd.Period('2015-03')])\n",
    "ts3 = pd.Series(np.random.rand(3), index=periods)\n",
    "ts3"
   ]
  },
  {
   "cell_type": "code",
   "execution_count": null,
   "metadata": {},
   "outputs": [],
   "source": [
    "ts3.index"
   ]
  },
  {
   "cell_type": "code",
   "execution_count": null,
   "metadata": {},
   "outputs": [],
   "source": [
    "ts2.to_period('M')"
   ]
  },
  {
   "cell_type": "code",
   "execution_count": null,
   "metadata": {},
   "outputs": [],
   "source": [
    "!head -n 5 temperature_outdoor_2014.tsv"
   ]
  },
  {
   "cell_type": "code",
   "execution_count": null,
   "metadata": {},
   "outputs": [],
   "source": [
    "df1 = pd.read_csv('temperature_outdoor_2014.tsv', delimiter='\\t', names=['time', 'outdoor'])\n",
    "df2 = pd.read_csv('temperature_indoor_2014.tsv', delimiter='\\t', names=['time', 'indoor'])"
   ]
  },
  {
   "cell_type": "code",
   "execution_count": null,
   "metadata": {},
   "outputs": [],
   "source": [
    "df1.head()"
   ]
  },
  {
   "cell_type": "code",
   "execution_count": null,
   "metadata": {},
   "outputs": [],
   "source": [
    "df1.time = (pd.to_datetime(df1.time.values, unit='s')\n",
    "           .tz_localize('UTC').tz_convert('Europe/Stockholm'))\n",
    "df1 = df1.set_index('time')\n",
    "df2.time = (pd.to_datetime(df2.time.values, unit='s')\n",
    "           .tz_localize('UTC').tz_convert('Europe/Stockholm'))\n",
    "df2 = df2.set_index('time')\n",
    "df1.head()"
   ]
  },
  {
   "cell_type": "code",
   "execution_count": null,
   "metadata": {},
   "outputs": [],
   "source": [
    "fig, ax  = plt.subplots(1, 1, figsize = (12,4))\n",
    "df1.plot(ax=ax)\n",
    "df2.plot(ax=ax)"
   ]
  },
  {
   "cell_type": "code",
   "execution_count": null,
   "metadata": {},
   "outputs": [],
   "source": [
    "df1.info()"
   ]
  },
  {
   "cell_type": "code",
   "execution_count": null,
   "metadata": {},
   "outputs": [],
   "source": [
    "mask_jan = (df1.index >= '2014-1-1') & (df1.index < '2014-2-1')\n",
    "df1_jan = df1[mask_jan]\n",
    "df1_jan.info\n",
    "                                        "
   ]
  },
  {
   "cell_type": "code",
   "execution_count": null,
   "metadata": {},
   "outputs": [],
   "source": [
    "df2_jan = df2['2014-1-1':'2014-1-31']\n",
    "df2_jan.info()"
   ]
  },
  {
   "cell_type": "code",
   "execution_count": null,
   "metadata": {},
   "outputs": [],
   "source": [
    "# fig, ax = plt.subplots(1, 1, figsize=(12, 4))\n",
    "\n",
    "# df1_jan.plot(ax=ax)\n",
    "# df2_jan.plot(ax=ax)\n",
    "\n",
    "\n",
    "fig, ax = plt.subplots(1, 1, figsize=(12, 4))\n",
    "df1.plot(ax=ax)\n",
    "df2.plot(ax=ax)\n",
    "\n",
    "fig.tight_layout()"
   ]
  },
  {
   "cell_type": "code",
   "execution_count": null,
   "metadata": {},
   "outputs": [],
   "source": [
    "df1_month = df1.reset_index()\n",
    "df1_month ['month'] = df1_month.time.apply(lambda x: x.month)\n",
    "df1_month.head()"
   ]
  },
  {
   "cell_type": "code",
   "execution_count": null,
   "metadata": {},
   "outputs": [],
   "source": [
    "df1_month = df1_month.groupby('month').aggregate(np.mean)\n",
    "df2_month = df2.reset_index()\n",
    "df2_month['month'] = df2_month.time.apply(lambda x: x.month)\n",
    "df2_month = df2_month.groupby('month').aggregate(np.mean)\n"
   ]
  },
  {
   "cell_type": "code",
   "execution_count": null,
   "metadata": {},
   "outputs": [],
   "source": [
    "df_month = df1_month.join(df2_month)\n",
    "df_month.head(3)"
   ]
  },
  {
   "cell_type": "code",
   "execution_count": null,
   "metadata": {},
   "outputs": [],
   "source": [
    "df_month = pd.concat([df.to_period('M').groupby(level=0).mean()\n",
    "                     for df in [df1, df2]], axis=1)\n",
    "df_month.head(3)"
   ]
  },
  {
   "cell_type": "code",
   "execution_count": null,
   "metadata": {},
   "outputs": [],
   "source": [
    "fig, axes = plt.subplots(1, 2, figsize=(12, 4))\n",
    "df_month.plot(kind='bar', ax=axes[0])\n",
    "df_month.plot(kind='box', ax=axes[1])"
   ]
  },
  {
   "cell_type": "code",
   "execution_count": null,
   "metadata": {},
   "outputs": [],
   "source": [
    "df1_hour = df1.resample('H').mean()\n",
    "df1_hour.columns = ['outdoor(hourly avg.)']\n",
    "df1_day = df1.resample('D').mean()\n",
    "df1_day.columns = ['outdoor (daily avg.)']\n",
    "df1_week = df1.resample('7D').mean()\n",
    "df1_week.columns = ['outdoor (weekly avg.)']\n",
    "df1_month = df1.resample('M').mean()\n",
    "df1_month.columns = ['outdoor (monthly avg.)']\n",
    "df1_diff = (df1.resample('D').mean().outdoor - df2.resample('D').mean().indoor)\n",
    "\n",
    "fig, (ax1, ax2) = plt.subplots(2, 1, figsize=(12, 6))\n",
    "\n",
    "df1_hour.plot(ax=ax1, alpha=0.25)\n",
    "df1_day.plot(ax=ax1)\n",
    "df1_week.plot(ax=ax1)\n",
    "df1_month.plot(ax=ax1)\n",
    "df1_diff.plot(ax=ax2)\n",
    "ax2.set_title('temperature difference between outdoor and indoor')\n",
    "fig.tight_layout()\n"
   ]
  },
  {
   "cell_type": "code",
   "execution_count": null,
   "metadata": {},
   "outputs": [],
   "source": [
    "\n",
    "pd.concat(\n",
    "    [df1.resample('5min').mean().rename(columns={'outdoor':'None'}),\n",
    "     df1.resample('5min').ffill().rename(columns={'outdoor': 'ffill'}),\n",
    "     df1.resample('5min').bfill().rename(columns={'outdoor': 'bfill'})],\n",
    "    axis=1).head()"
   ]
  },
  {
   "cell_type": "markdown",
   "metadata": {},
   "source": [
    "### Seaborn graphics lib"
   ]
  },
  {
   "cell_type": "code",
   "execution_count": null,
   "metadata": {
    "scrolled": true
   },
   "outputs": [],
   "source": [
    "df1 = pd.read_csv('temperature_outdoor_2014.tsv', delimiter='\\t', names=['time', 'outdoor'])\n",
    "df1.time = (pd.to_datetime(df1.time.values, unit='s')\n",
    "              .tz_localize('UTC').tz_convert('Europe/Stockholm'))\n",
    "df1 = df1.set_index('time').resample('10min').mean()\n",
    "\n",
    "df2 = pd.read_csv('temperature_indoor_2014.tsv', delimiter='\\t', names=['time', 'indoor'])\n",
    "df2.time = (pd.to_datetime(df2.time.values, unit='s')\n",
    "              .tz_localize('UTC').tz_convert('Europe/Stockholm'))\n",
    "df2 = df2.set_index('time').resample('10min').mean()\n",
    "\n",
    "df_temp = pd.concat([df1, df2], axis=1)\n",
    "fig, ax = plt.subplots(1, 1, figsize=(8, 4))\n",
    "df_temp.resample('D').mean().plot(y=['outdoor', 'indoor'], ax=ax)\n"
   ]
  },
  {
   "cell_type": "markdown",
   "metadata": {},
   "source": [
    "**Time-series plot produced by Matplotlib using the Pandas\n",
    "library, with a plot style that is set up by the Seaborn library**\n"
   ]
  },
  {
   "cell_type": "code",
   "execution_count": null,
   "metadata": {},
   "outputs": [],
   "source": [
    "sns.distplot(df_temp.to_period('M')['outdoor']['2014-04'].dropna().values, bins=50)\n",
    "sns.distplot(df_temp.to_period('M')['indoor']['2014-04'].dropna().values, bins=50)\n"
   ]
  },
  {
   "cell_type": "markdown",
   "metadata": {},
   "source": [
    "**The histogram (bars) and kernel-density plots (solid lines) for the\n",
    "subset of indoor and outdoor datasets that corresponds to the month of April**"
   ]
  },
  {
   "cell_type": "code",
   "execution_count": null,
   "metadata": {},
   "outputs": [],
   "source": [
    "sns.kdeplot(df_temp.resample('H').mean()['outdoor'].dropna().values,\n",
    "            df_temp.resample('H').mean()['indoor'].dropna().values, shade=False)\n",
    "\n",
    "with sns.axes_style('white'):\n",
    "    sns.jointplot(df_temp.resample('H').mean()['outdoor'].values, \n",
    "                  df_temp.resample('H').mean()['indoor'].values,\n",
    "                  kind = 'hex')"
   ]
  },
  {
   "cell_type": "markdown",
   "metadata": {},
   "source": [
    "**Two-dimensional kernel-density estimate contour (top) and the joint distribution\n",
    "for the indoor and outdoor temperature datasets (bottom). the outdoor\n",
    "temperatures are shown on the x axis and the indoor temperatures on \n",
    "the y axis.**"
   ]
  },
  {
   "cell_type": "code",
   "execution_count": null,
   "metadata": {},
   "outputs": [],
   "source": [
    "fig, (ax1, ax2) = plt.subplots(1, 2, figsize = (8, 4))\n",
    "sns.boxplot(df_temp.dropna(), ax=ax1, palette='pastel')\n",
    "sns.violinplot(df_temp.dropna(), ax=ax2, palette='pastel')\n",
    "fig.tight_layout()"
   ]
  },
  {
   "cell_type": "code",
   "execution_count": null,
   "metadata": {},
   "outputs": [],
   "source": [
    "sns.violinplot(x=df_temp.dropna().index.month, \n",
    "              y=df_temp.dropna().outdoor, color='skyblue')"
   ]
  },
  {
   "cell_type": "code",
   "execution_count": null,
   "metadata": {},
   "outputs": [],
   "source": [
    "df_temp['month'] = df_temp.index.month\n",
    "df_temp['hour'] = df_temp.index.hour\n",
    "table = pd.pivot_table(df_temp, values='outdoor',\n",
    "                       index = ['month'], columns = ['hour'], aggfunc=np.mean)\n",
    "\n",
    "fig, ax = plt.subplots(1, 1, figsize=(8,4))\n",
    "sns.heatmap(table, ax=ax)"
   ]
  },
  {
   "cell_type": "code",
   "execution_count": null,
   "metadata": {},
   "outputs": [],
   "source": []
  }
 ],
 "metadata": {
  "kernelspec": {
   "display_name": "Python 3",
   "language": "python",
   "name": "python3"
  },
  "language_info": {
   "codemirror_mode": {
    "name": "ipython",
    "version": 3
   },
   "file_extension": ".py",
   "mimetype": "text/x-python",
   "name": "python",
   "nbconvert_exporter": "python",
   "pygments_lexer": "ipython3",
   "version": "3.6.9"
  }
 },
 "nbformat": 4,
 "nbformat_minor": 2
}
